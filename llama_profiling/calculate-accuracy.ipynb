{
 "cells": [
  {
   "cell_type": "code",
   "execution_count": 10,
   "id": "2f65bf37-ded4-47f5-84f2-57e1794d13a7",
   "metadata": {},
   "outputs": [],
   "source": [
    "# import os\n",
    "# import pandas as pd\n",
    "\n",
    "# BASE_DIR = \"../llama_profiling/experiments/llama_profiling\"\n",
    "# OUTPUT_FILE = \"merged_energibridge.csv\"\n",
    "\n",
    "# csv_files = [\n",
    "#     os.path.join(root, f)\n",
    "#     for root, _, files in os.walk(BASE_DIR)\n",
    "#     for f in files if f.endswith(\".csv\")\n",
    "# ]\n",
    "\n",
    "# dfs = []\n",
    "# for path in csv_files:\n",
    "#     df = pd.read_csv(path)\n",
    "#     df.columns = df.columns.str.strip()\n",
    "#     dfs.append(df)\n",
    "\n",
    "# merged = pd.concat(dfs, ignore_index=True)\n",
    "\n",
    "# merged.to_csv(OUTPUT_FILE, index=False)\n",
    "# print(f\"Merged CSV saved: {OUTPUT_FILE}\")\n",
    "\n",
    "import os\n",
    "import pandas as pd\n",
    "import re\n",
    "import numpy as np"
   ]
  },
  {
   "cell_type": "code",
   "execution_count": null,
   "id": "4b782a80-5945-4ac0-bdc3-60c1d28eaca6",
   "metadata": {},
   "outputs": [],
   "source": []
  },
  {
   "cell_type": "code",
   "execution_count": 18,
   "id": "8df856a6-1c3f-4c63-80f4-8d5ac51f1fec",
   "metadata": {},
   "outputs": [
    {
     "name": "stdout",
     "output_type": "stream",
     "text": [
      "running ../llama_profiling/experiments/llama_profiling\\run_0_repetition_0\\energibridge.csv\n",
      "Empty DataFrame\n",
      "Columns: [Delta, Time, CPU_FREQUENCY_0, CPU_FREQUENCY_1, CPU_FREQUENCY_10, CPU_FREQUENCY_11, CPU_FREQUENCY_12, CPU_FREQUENCY_13, CPU_FREQUENCY_14, CPU_FREQUENCY_15, CPU_FREQUENCY_16, CPU_FREQUENCY_17, CPU_FREQUENCY_18, CPU_FREQUENCY_19, CPU_FREQUENCY_2, CPU_FREQUENCY_20, CPU_FREQUENCY_21, CPU_FREQUENCY_22, CPU_FREQUENCY_23, CPU_FREQUENCY_24, CPU_FREQUENCY_25, CPU_FREQUENCY_26, CPU_FREQUENCY_27, CPU_FREQUENCY_28, CPU_FREQUENCY_29, CPU_FREQUENCY_3, CPU_FREQUENCY_30, CPU_FREQUENCY_31, CPU_FREQUENCY_4, CPU_FREQUENCY_5, CPU_FREQUENCY_6, CPU_FREQUENCY_7, CPU_FREQUENCY_8, CPU_FREQUENCY_9, CPU_USAGE_0, CPU_USAGE_1, CPU_USAGE_10, CPU_USAGE_11, CPU_USAGE_12, CPU_USAGE_13, CPU_USAGE_14, CPU_USAGE_15, CPU_USAGE_16, CPU_USAGE_17, CPU_USAGE_18, CPU_USAGE_19, CPU_USAGE_2, CPU_USAGE_20, CPU_USAGE_21, CPU_USAGE_22, CPU_USAGE_23, CPU_USAGE_24, CPU_USAGE_25, CPU_USAGE_26, CPU_USAGE_27, CPU_USAGE_28, CPU_USAGE_29, CPU_USAGE_3, CPU_USAGE_30, CPU_USAGE_31, CPU_USAGE_4, CPU_USAGE_5, CPU_USAGE_6, CPU_USAGE_7, CPU_USAGE_8, CPU_USAGE_9, DRAM_ENERGY (J), GPU0_MEMORY_TOTAL, GPU0_MEMORY_USED, GPU0_POWER (mWatts), GPU0_TEMPERATURE, GPU0_USAGE, PACKAGE_ENERGY (J), PP0_ENERGY (J), PP1_ENERGY (J), TOTAL_MEMORY, TOTAL_SWAP, USED_MEMORY, USED_SWAP, energy_diff, gpu_joules]\n",
      "Index: []\n",
      "\n",
      "[0 rows x 81 columns]\n",
      "response length sum (characters):  57714\n",
      "energy (joules):  91249.7885617187\n"
     ]
    },
    {
     "ename": "IndexError",
     "evalue": "single positional indexer is out-of-bounds",
     "output_type": "error",
     "traceback": [
      "\u001b[1;31m---------------------------------------------------------------------------\u001b[0m",
      "\u001b[1;31mIndexError\u001b[0m                                Traceback (most recent call last)",
      "Input \u001b[1;32mIn [18]\u001b[0m, in \u001b[0;36m<cell line: 26>\u001b[1;34m()\u001b[0m\n\u001b[0;32m     63\u001b[0m \u001b[38;5;28mprint\u001b[39m(\u001b[38;5;124m'\u001b[39m\u001b[38;5;124mresponse length sum (characters): \u001b[39m\u001b[38;5;124m'\u001b[39m, \u001b[38;5;28msum\u001b[39m(tsv_df[\u001b[38;5;124m'\u001b[39m\u001b[38;5;124mresponse_length\u001b[39m\u001b[38;5;124m'\u001b[39m]))\n\u001b[0;32m     64\u001b[0m \u001b[38;5;28mprint\u001b[39m(\u001b[38;5;124m'\u001b[39m\u001b[38;5;124menergy (joules): \u001b[39m\u001b[38;5;124m'\u001b[39m, energy_consumption_total)\n\u001b[1;32m---> 65\u001b[0m \u001b[38;5;28mprint\u001b[39m(\u001b[38;5;124m'\u001b[39m\u001b[38;5;124mduration (ms)\u001b[39m\u001b[38;5;124m'\u001b[39m, \u001b[43mdf\u001b[49m\u001b[38;5;241;43m.\u001b[39;49m\u001b[43miloc\u001b[49m\u001b[43m[\u001b[49m\u001b[38;5;241;43m-\u001b[39;49m\u001b[38;5;241;43m1\u001b[39;49m\u001b[43m]\u001b[49m[\u001b[38;5;124m'\u001b[39m\u001b[38;5;124mTime\u001b[39m\u001b[38;5;124m'\u001b[39m]\u001b[38;5;241m-\u001b[39mdf\u001b[38;5;241m.\u001b[39miloc[\u001b[38;5;241m0\u001b[39m][\u001b[38;5;124m'\u001b[39m\u001b[38;5;124mTime\u001b[39m\u001b[38;5;124m'\u001b[39m])\n\u001b[0;32m     66\u001b[0m \u001b[38;5;28mprint\u001b[39m(\u001b[38;5;124m'\u001b[39m\u001b[38;5;124maccuracy\u001b[39m\u001b[38;5;124m'\u001b[39m, \u001b[38;5;241m30\u001b[39m)\n\u001b[0;32m     67\u001b[0m \u001b[38;5;28;01mbreak\u001b[39;00m\n",
      "File \u001b[1;32m~\\AppData\\Local\\Programs\\Python\\Python310\\lib\\site-packages\\pandas\\core\\indexing.py:1073\u001b[0m, in \u001b[0;36m_LocationIndexer.__getitem__\u001b[1;34m(self, key)\u001b[0m\n\u001b[0;32m   1070\u001b[0m axis \u001b[38;5;241m=\u001b[39m \u001b[38;5;28mself\u001b[39m\u001b[38;5;241m.\u001b[39maxis \u001b[38;5;129;01mor\u001b[39;00m \u001b[38;5;241m0\u001b[39m\n\u001b[0;32m   1072\u001b[0m maybe_callable \u001b[38;5;241m=\u001b[39m com\u001b[38;5;241m.\u001b[39mapply_if_callable(key, \u001b[38;5;28mself\u001b[39m\u001b[38;5;241m.\u001b[39mobj)\n\u001b[1;32m-> 1073\u001b[0m \u001b[38;5;28;01mreturn\u001b[39;00m \u001b[38;5;28;43mself\u001b[39;49m\u001b[38;5;241;43m.\u001b[39;49m\u001b[43m_getitem_axis\u001b[49m\u001b[43m(\u001b[49m\u001b[43mmaybe_callable\u001b[49m\u001b[43m,\u001b[49m\u001b[43m \u001b[49m\u001b[43maxis\u001b[49m\u001b[38;5;241;43m=\u001b[39;49m\u001b[43maxis\u001b[49m\u001b[43m)\u001b[49m\n",
      "File \u001b[1;32m~\\AppData\\Local\\Programs\\Python\\Python310\\lib\\site-packages\\pandas\\core\\indexing.py:1625\u001b[0m, in \u001b[0;36m_iLocIndexer._getitem_axis\u001b[1;34m(self, key, axis)\u001b[0m\n\u001b[0;32m   1622\u001b[0m     \u001b[38;5;28;01mraise\u001b[39;00m \u001b[38;5;167;01mTypeError\u001b[39;00m(\u001b[38;5;124m\"\u001b[39m\u001b[38;5;124mCannot index by location index with a non-integer key\u001b[39m\u001b[38;5;124m\"\u001b[39m)\n\u001b[0;32m   1624\u001b[0m \u001b[38;5;66;03m# validate the location\u001b[39;00m\n\u001b[1;32m-> 1625\u001b[0m \u001b[38;5;28;43mself\u001b[39;49m\u001b[38;5;241;43m.\u001b[39;49m\u001b[43m_validate_integer\u001b[49m\u001b[43m(\u001b[49m\u001b[43mkey\u001b[49m\u001b[43m,\u001b[49m\u001b[43m \u001b[49m\u001b[43maxis\u001b[49m\u001b[43m)\u001b[49m\n\u001b[0;32m   1627\u001b[0m \u001b[38;5;28;01mreturn\u001b[39;00m \u001b[38;5;28mself\u001b[39m\u001b[38;5;241m.\u001b[39mobj\u001b[38;5;241m.\u001b[39m_ixs(key, axis\u001b[38;5;241m=\u001b[39maxis)\n",
      "File \u001b[1;32m~\\AppData\\Local\\Programs\\Python\\Python310\\lib\\site-packages\\pandas\\core\\indexing.py:1557\u001b[0m, in \u001b[0;36m_iLocIndexer._validate_integer\u001b[1;34m(self, key, axis)\u001b[0m\n\u001b[0;32m   1555\u001b[0m len_axis \u001b[38;5;241m=\u001b[39m \u001b[38;5;28mlen\u001b[39m(\u001b[38;5;28mself\u001b[39m\u001b[38;5;241m.\u001b[39mobj\u001b[38;5;241m.\u001b[39m_get_axis(axis))\n\u001b[0;32m   1556\u001b[0m \u001b[38;5;28;01mif\u001b[39;00m key \u001b[38;5;241m>\u001b[39m\u001b[38;5;241m=\u001b[39m len_axis \u001b[38;5;129;01mor\u001b[39;00m key \u001b[38;5;241m<\u001b[39m \u001b[38;5;241m-\u001b[39mlen_axis:\n\u001b[1;32m-> 1557\u001b[0m     \u001b[38;5;28;01mraise\u001b[39;00m \u001b[38;5;167;01mIndexError\u001b[39;00m(\u001b[38;5;124m\"\u001b[39m\u001b[38;5;124msingle positional indexer is out-of-bounds\u001b[39m\u001b[38;5;124m\"\u001b[39m)\n",
      "\u001b[1;31mIndexError\u001b[0m: single positional indexer is out-of-bounds"
     ]
    }
   ],
   "source": [
    "BASE_DIR = \"../llama_profiling/experiments/llama_profiling\"\n",
    "OUTPUT_FILE = \"merged_energibridge.csv\"\n",
    "\n",
    "csv_files = [\n",
    "    os.path.join(root, f)\n",
    "    for root, _, files in os.walk(BASE_DIR)\n",
    "    for f in files if f.endswith(\".csv\")\n",
    "][1:20]\n",
    "\n",
    "dfs = []\n",
    "\n",
    "results = []\n",
    "\n",
    "\n",
    "def split_run_id(val):\n",
    "    match = re.match(r'(?:run_?|)(\\d+)_+(repetition_\\d+)', val)\n",
    "    if match:\n",
    "        run_num, repetition = match.groups()\n",
    "        return f\"run{run_num}\", repetition\n",
    "    else:\n",
    "        parts = val.split(\"_\", 1)\n",
    "        run = parts[0] if parts else None\n",
    "        rep = parts[1] if len(parts) > 1 else None\n",
    "        return run, rep\n",
    "    \n",
    "for i,path in enumerate(csv_files):\n",
    "    folder = path[:path.rfind(\"\\\\\")]\n",
    "    #if 'run_0_repetition_15' not in path:\n",
    "    #    print('ignoring', path)\n",
    "    #    continue\n",
    "\n",
    "    print('running', path)\n",
    "    df = pd.read_csv(path)\n",
    "    df.columns = df.columns.str.strip()\n",
    "        \n",
    "    # Fix overflow and normalize to energy_diff\n",
    "    diff = df[\"PACKAGE_ENERGY (J)\"] - df[\"PACKAGE_ENERGY (J)\"].shift(1)\n",
    "    df[\"energy_diff\"] = np.where(diff < 0, df[\"PACKAGE_ENERGY (J)\"], diff.fillna(0))\n",
    "    \n",
    "    # Calculate GPU consumption\n",
    "    df[\"gpu_joules\"] = df[\"GPU0_POWER (mWatts)\"] / 5000 + df[\"energy_diff\"]\n",
    "\n",
    "    # Display all rows\n",
    "    #with pd.option_context('display.max_rows', None, 'display.max_columns', None):  # more options can be specified also\n",
    "    #    print(df[[\"gpu_joules\", \"PACKAGE_ENERGY (J)\"]], )\n",
    "        \n",
    "    # Total consumption\n",
    "    energy_consumption_total=sum(df[\"gpu_joules\"]) + sum(df[\"energy_diff\"])\n",
    "    \n",
    "    # Merge .tsv data\n",
    "    tsv_df = pd.read_csv(folder+\"\\\\prompts_out.tsv\", sep=\"\\t\")\n",
    "    \n",
    "    tsv_df['prompt_length'] = tsv_df[\"prompt\"].str.len()\n",
    "    tsv_df['response_length'] = tsv_df[\"response\"].str.len()\n",
    "    \n",
    "    timestamp_start_prompts, timestamp_end_prompts = tsv_df.iloc[0]['start'], tsv_df.iloc[-1]['end']\n",
    "\n",
    "    df = df[(df['Time'] >= timestamp_start_prompts) & (df['Time'] <= timestamp_end_prompts)]\n",
    "    \n",
    "    print(df)\n",
    "    \n",
    "    # Reduced data from the .csv and .tsv        \n",
    "    print('response length sum (characters): ', sum(tsv_df['response_length']))\n",
    "    print('energy (joules): ', energy_consumption_total)\n",
    "    print('duration (ms)', df.iloc[-1]['Time']-df.iloc[0]['Time'])\n",
    "    print('accuracy', 30)\n",
    "    break\n",
    "    continue\n",
    "\n",
    "    \n"
   ]
  },
  {
   "cell_type": "code",
   "execution_count": 8,
   "id": "38aeba59-7ae6-4a31-b8aa-0a03e90a6f98",
   "metadata": {},
   "outputs": [],
   "source": [
    "dff = tsv_df[0:1]"
   ]
  },
  {
   "cell_type": "code",
   "execution_count": 9,
   "id": "708e4391-3b6f-4c11-ba35-94651169eba7",
   "metadata": {},
   "outputs": [
    {
     "data": {
      "text/html": [
       "<div>\n",
       "<style scoped>\n",
       "    .dataframe tbody tr th:only-of-type {\n",
       "        vertical-align: middle;\n",
       "    }\n",
       "\n",
       "    .dataframe tbody tr th {\n",
       "        vertical-align: top;\n",
       "    }\n",
       "\n",
       "    .dataframe thead th {\n",
       "        text-align: right;\n",
       "    }\n",
       "</style>\n",
       "<table border=\"1\" class=\"dataframe\">\n",
       "  <thead>\n",
       "    <tr style=\"text-align: right;\">\n",
       "      <th></th>\n",
       "      <th>start</th>\n",
       "      <th>end</th>\n",
       "      <th>prompt</th>\n",
       "      <th>response</th>\n",
       "      <th>prompt_length</th>\n",
       "      <th>response_length</th>\n",
       "    </tr>\n",
       "  </thead>\n",
       "  <tbody>\n",
       "    <tr>\n",
       "      <th>0</th>\n",
       "      <td>1760502188</td>\n",
       "      <td>1760502190</td>\n",
       "      <td>Passage: Persian language -- Persian (/ˈpɜːrʒə...</td>\n",
       "      <td>Based on the given passage, it can be said t...</td>\n",
       "      <td>696</td>\n",
       "      <td>799</td>\n",
       "    </tr>\n",
       "  </tbody>\n",
       "</table>\n",
       "</div>"
      ],
      "text/plain": [
       "        start         end                                             prompt  \\\n",
       "0  1760502188  1760502190  Passage: Persian language -- Persian (/ˈpɜːrʒə...   \n",
       "\n",
       "                                            response  prompt_length  \\\n",
       "0    Based on the given passage, it can be said t...            696   \n",
       "\n",
       "   response_length  \n",
       "0              799  "
      ]
     },
     "execution_count": 9,
     "metadata": {},
     "output_type": "execute_result"
    }
   ],
   "source": [
    "dff"
   ]
  },
  {
   "cell_type": "code",
   "execution_count": null,
   "id": "a9eb8bcb-abfc-4bdf-a475-68516f40218e",
   "metadata": {},
   "outputs": [],
   "source": []
  }
 ],
 "metadata": {
  "kernelspec": {
   "display_name": "Python 3 (ipykernel)",
   "language": "python",
   "name": "python3"
  },
  "language_info": {
   "codemirror_mode": {
    "name": "ipython",
    "version": 3
   },
   "file_extension": ".py",
   "mimetype": "text/x-python",
   "name": "python",
   "nbconvert_exporter": "python",
   "pygments_lexer": "ipython3",
   "version": "3.10.6"
  }
 },
 "nbformat": 4,
 "nbformat_minor": 5
}
